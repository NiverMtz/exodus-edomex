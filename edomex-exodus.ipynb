{
 "cells": [
  {
   "cell_type": "markdown",
   "id": "42c696ed",
   "metadata": {},
   "source": [
    "# EXODUS EDOMEX\n",
    "\n",
    "### Análisis exploratorio sobre la movilidad interurbana e interestatal de los habitantes del Estado de México\n"
   ]
  },
  {
   "cell_type": "markdown",
   "id": "a36324f5",
   "metadata": {},
   "source": [
    "Nuestra fuente de datos para este análisis exploratorio es la Encuesta Origen Destino en Hogares de la Zona Metropolitana del Valle de México (EOD) 2017\n",
    "\n",
    "Cuyos datos abiertos están disponibles en la siguiente liga:\n",
    "\n",
    "https://www.inegi.org.mx/contenidos/programas/eod/2017/datosabiertos/eod_2017_csv.zip"
   ]
  },
  {
   "cell_type": "markdown",
   "id": "019d5ecd",
   "metadata": {},
   "source": [
    "En esta fuente de datos encontramos 5 tablas, las cuales vienen definidas en el archivo `0_indice_tablas_eod2017.csv`. Mismo que visualizamos a continuación."
   ]
  },
  {
   "cell_type": "code",
   "execution_count": 9,
   "id": "f59e92b6",
   "metadata": {},
   "outputs": [
    {
     "data": {
      "application/vnd.microsoft.datawrangler.viewer.v0+json": {
       "columns": [
        {
         "name": "index",
         "rawType": "int64",
         "type": "integer"
        },
        {
         "name": "Encuesta  Origen - Destino en Hogares de la Zona Metropolitana del Valle de México 2017",
         "rawType": "object",
         "type": "unknown"
        },
        {
         "name": "Unnamed: 1",
         "rawType": "object",
         "type": "unknown"
        }
       ],
       "ref": "815d97bf-a252-45c2-a644-57136c67a80e",
       "rows": [
        [
         "0",
         null,
         null
        ],
        [
         "1",
         "Nombre de archivo",
         "Título de Tablas"
        ],
        [
         "2",
         "tvivienda",
         "Viviendas"
        ],
        [
         "3",
         "thogar",
         "Hogares"
        ],
        [
         "4",
         "tsdem",
         "Características sociodemográficas"
        ],
        [
         "5",
         "tviaje",
         "Viajes realizados"
        ],
        [
         "6",
         "ttransporte",
         "Transportes"
        ]
       ],
       "shape": {
        "columns": 2,
        "rows": 7
       }
      },
      "text/html": [
       "<div>\n",
       "<style scoped>\n",
       "    .dataframe tbody tr th:only-of-type {\n",
       "        vertical-align: middle;\n",
       "    }\n",
       "\n",
       "    .dataframe tbody tr th {\n",
       "        vertical-align: top;\n",
       "    }\n",
       "\n",
       "    .dataframe thead th {\n",
       "        text-align: right;\n",
       "    }\n",
       "</style>\n",
       "<table border=\"1\" class=\"dataframe\">\n",
       "  <thead>\n",
       "    <tr style=\"text-align: right;\">\n",
       "      <th></th>\n",
       "      <th>Encuesta  Origen - Destino en Hogares de la Zona Metropolitana del Valle de México 2017</th>\n",
       "      <th>Unnamed: 1</th>\n",
       "    </tr>\n",
       "  </thead>\n",
       "  <tbody>\n",
       "    <tr>\n",
       "      <th>0</th>\n",
       "      <td>NaN</td>\n",
       "      <td>NaN</td>\n",
       "    </tr>\n",
       "    <tr>\n",
       "      <th>1</th>\n",
       "      <td>Nombre de archivo</td>\n",
       "      <td>Título de Tablas</td>\n",
       "    </tr>\n",
       "    <tr>\n",
       "      <th>2</th>\n",
       "      <td>tvivienda</td>\n",
       "      <td>Viviendas</td>\n",
       "    </tr>\n",
       "    <tr>\n",
       "      <th>3</th>\n",
       "      <td>thogar</td>\n",
       "      <td>Hogares</td>\n",
       "    </tr>\n",
       "    <tr>\n",
       "      <th>4</th>\n",
       "      <td>tsdem</td>\n",
       "      <td>Características sociodemográficas</td>\n",
       "    </tr>\n",
       "    <tr>\n",
       "      <th>5</th>\n",
       "      <td>tviaje</td>\n",
       "      <td>Viajes realizados</td>\n",
       "    </tr>\n",
       "    <tr>\n",
       "      <th>6</th>\n",
       "      <td>ttransporte</td>\n",
       "      <td>Transportes</td>\n",
       "    </tr>\n",
       "  </tbody>\n",
       "</table>\n",
       "</div>"
      ],
      "text/plain": [
       "  Encuesta  Origen - Destino en Hogares de la Zona Metropolitana del Valle de México 2017  \\\n",
       "0                                                NaN                                        \n",
       "1                                  Nombre de archivo                                        \n",
       "2                                          tvivienda                                        \n",
       "3                                             thogar                                        \n",
       "4                                              tsdem                                        \n",
       "5                                             tviaje                                        \n",
       "6                                        ttransporte                                        \n",
       "\n",
       "                          Unnamed: 1  \n",
       "0                                NaN  \n",
       "1                   Título de Tablas  \n",
       "2                          Viviendas  \n",
       "3                            Hogares  \n",
       "4  Características sociodemográficas  \n",
       "5                  Viajes realizados  \n",
       "6                        Transportes  "
      ]
     },
     "execution_count": 9,
     "metadata": {},
     "output_type": "execute_result"
    }
   ],
   "source": [
    "# Importamos dependencias necesarias\n",
    "import pandas as pd\n",
    "\n",
    "df_tables = pd.read_csv('./eod_2017_csv/0_indice_tablas_eod2017.csv', encoding='latin1')\n",
    "\n",
    "df_tables"
   ]
  }
 ],
 "metadata": {
  "kernelspec": {
   "display_name": "venv3.13.5",
   "language": "python",
   "name": "python3"
  },
  "language_info": {
   "codemirror_mode": {
    "name": "ipython",
    "version": 3
   },
   "file_extension": ".py",
   "mimetype": "text/x-python",
   "name": "python",
   "nbconvert_exporter": "python",
   "pygments_lexer": "ipython3",
   "version": "3.13.5"
  }
 },
 "nbformat": 4,
 "nbformat_minor": 5
}
